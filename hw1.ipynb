{
 "cells": [
  {
   "cell_type": "markdown",
   "metadata": {},
   "source": [
    "# Вариант А\n",
    "Написать классификатор для автоматического определения языка текста."
   ]
  },
  {
   "cell_type": "markdown",
   "metadata": {},
   "source": [
    "## Выкачиваем тексты из википедии"
   ]
  },
  {
   "cell_type": "markdown",
   "metadata": {},
   "source": [
    "Я выбрала английский, индонезийский, латинский и баскский."
   ]
  },
  {
   "cell_type": "code",
   "execution_count": 134,
   "metadata": {
    "collapsed": false
   },
   "outputs": [],
   "source": [
    "import wikipedia"
   ]
  },
  {
   "cell_type": "code",
   "execution_count": 3,
   "metadata": {
    "collapsed": false
   },
   "outputs": [],
   "source": [
    "# 100 random english texts\n",
    "wikipedia.set_lang(\"en\")\n",
    "en_pages = wikipedia.random(pages=150)"
   ]
  },
  {
   "cell_type": "code",
   "execution_count": 136,
   "metadata": {
    "collapsed": true
   },
   "outputs": [],
   "source": [
    "def get_articles(pnames):\n",
    "    articles = []\n",
    "    for pname in pnames:\n",
    "        try:\n",
    "            print(pname)\n",
    "            page = wikipedia.page(pname)\n",
    "            articles.append(page.content)\n",
    "        except Exception as e:\n",
    "            print(e)\n",
    "    return articles"
   ]
  },
  {
   "cell_type": "code",
   "execution_count": 5,
   "metadata": {
    "collapsed": false
   },
   "outputs": [
    {
     "name": "stdout",
     "output_type": "stream",
     "text": [
      "Angélica Delfina Vásquez Cruz\n",
      "2016 UCI World Championships\n",
      "Harriet Ntabazi\n",
      "Timberlea\n"
     ]
    },
    {
     "name": "stderr",
     "output_type": "stream",
     "text": [
      "/home/maryszmary/anaconda3/lib/python3.5/site-packages/bs4/__init__.py:181: UserWarning: No parser was explicitly specified, so I'm using the best available HTML parser for this system (\"lxml\"). This usually isn't a problem, but if you run this code on another system, or in a different virtual environment, it may use a different parser and behave differently.\n",
      "\n",
      "The code that caused this warning is on line 184 of the file /home/maryszmary/anaconda3/lib/python3.5/runpy.py. To get rid of this warning, change code that looks like this:\n",
      "\n",
      " BeautifulSoup([your markup])\n",
      "\n",
      "to this:\n",
      "\n",
      " BeautifulSoup([your markup], \"lxml\")\n",
      "\n",
      "  markup_type=markup_type))\n"
     ]
    },
    {
     "name": "stdout",
     "output_type": "stream",
     "text": [
      "\"Timberlea\" may refer to: \n",
      "Timberlea, New Zealand\n",
      "Timberlea, Nova Scotia\n",
      "Timberlea, Ontario\n",
      "Ctenopseustis fraterna\n",
      "Islington Studios\n",
      "Licinius II\n",
      "Jefferson County Public Schools (West Virginia)\n",
      "USS Pelias (AS-14)\n",
      "Bell Brothers (Western Australia)\n",
      "Page id \"bell brothers western australian\" does not match any pages. Try another id!\n",
      "Eczemotes undata\n",
      "Hawizeh\n",
      "\"Hawizeh\" may refer to: \n",
      "Hawizeh Marshes\n",
      "Hoveyzeh\n",
      "Dungeons 3\n",
      "Hagrold\n",
      "Ilavelpu\n",
      "Austrogomphus prasinus\n",
      "Baseball Factory\n",
      "Phật Tích Temple\n",
      "1952 in motorsport\n",
      "Bajkani\n",
      "2004–05 Ross County F.C. season\n",
      "The Bedside Drama: A Petite Tragedy\n",
      "Letts nitrile synthesis\n",
      "Broadwood (constituency)\n",
      "So This Is Africa\n",
      "Markomannia incident\n",
      "Made in Croatia\n",
      "Église Saint-Michel de Reichshoffen\n",
      "Pensilvania, Caldas\n",
      "Apollon Barret\n",
      "Korean\n",
      "\"Korean\" may refer to: \n",
      "Koreans\n",
      "Korean cuisine\n",
      "Korean culture\n",
      "Korean language\n",
      "Korean Peninsula\n",
      "Korea\n",
      "North Korea\n",
      "South Korea\n",
      "Korean Air\n",
      "Korean War\n",
      "Names of Korea\n",
      "History of Korea\n",
      "All pages with a title containing Korean\n",
      "Stages of development\n",
      "\"Stages of development\" may refer to: \n",
      "Prenatal development\n",
      "Human development (biology)\n",
      "Economic growth\n",
      "Input-output model\n",
      "IS/LM model\n",
      "Rostovian take-off model\n",
      "Exogenous growth model\n",
      "Endogenous growth theory\n",
      "Dual-sector model\n",
      "O-Ring theory of economic development\n",
      "Harrod–Domar model\n",
      "Kerala model\n",
      "Harris–Todaro model\n",
      "Romer Model\n",
      "Erikson's stages of psychosocial development\n",
      "Kohlberg's stages of moral development\n",
      "Loevinger's stages of ego development\n",
      "Piaget's theory of cognitive development\n",
      "Neo-Piagetian theories of cognitive development\n",
      "Psychosexual development\n",
      "Model of hierarchical complexity\n",
      "Maslow's hierarchy of needs\n",
      "Sociocultural evolution\n",
      "Fowler's stages of faith development\n",
      "Team development\n",
      "Tuckman's stages of group development\n",
      "Software release life cycle\n",
      "Knight Rider (season 2)\n",
      "Welcome to My Party (Luv' song)\n",
      "Costas Douzinas\n",
      "Alice in Wonderland and Through the Looking-Glass (2001 Adrian Mitchell stage adaptation)\n",
      "Cistanthe umbellata\n",
      "Jean-Pierre Willem\n",
      "Iris Zimmermann\n",
      "146th Division (Imperial Japanese Army)\n",
      "Tony Levin\n",
      "Bolaang Airport\n",
      "Casper de Norre\n",
      "The Cenci\n",
      "Lierni Lekuona Etxebeste\n",
      "Piano Solos (George Winston album)\n",
      "Ayoayo\n",
      "Nico Thomaschewski\n",
      "Centaurium pulchellum\n",
      "Roscoe Beck\n",
      "Karakalpakiya (town)\n",
      "Ewald Wurzinger\n",
      "Edvard Rusjan\n",
      "Middlebrook Historic District\n",
      "Francisco Macabulos\n",
      "Attila Vári\n",
      "Saignon\n",
      "Channel 7 – Santiago del Estero\n",
      "Decantation\n",
      "Quistinic\n",
      "Coleophora niphocrossa\n",
      "Trans Karoo Express\n",
      "Michael Gibbs (composer)\n",
      "Lee Palfreyman\n",
      "Moving Pictures (TV series)\n",
      "\"Moving Pictures\" may refer to: \n",
      "Moving picture\n",
      "Moving Pictures (TV series)\n",
      "Stephen Lowe\n",
      "Sharon Pollock\n",
      "Moving Pictures (magazine)\n",
      "Moving Pictures (novel)\n",
      "Moving Pictures  (webcomic)\n",
      "Ali MacGraw\n",
      "Moving Pictures (band)\n",
      "Moving Pictures (Rush album)\n",
      "Moving Pictures (Holger Czukay album)\n",
      "Ravi Coltrane\n",
      "\"Moving Pictures\" (The Kinks song)\n",
      "\"Moving Pictures\" (The Cribs song)\n",
      "Fall Out Boy's Evening Out with Your Girlfriend\n",
      "All pages beginning with \"Moving Picture\"\n",
      "Film (disambiguation)\n",
      "Movie (disambiguation)\n",
      "African Orthodox Church\n",
      "GSE Composite Index\n",
      "Máel Coluim of Moray\n",
      "Guerlain\n",
      "Spoken Greatest Hits\n",
      "Cuthbert Hamilton\n",
      "Murder Is My Beat\n",
      "Sayed Nasim Mihanparast\n",
      "Rameshvara Temple, Narasamangala\n",
      "The Postponed Wedding Night\n",
      "\"The Postponed Wedding Night\" may refer to: \n",
      "The Postponed Wedding Night (play)\n",
      "The Postponed Wedding Night (1924 film)\n",
      "The Postponed Wedding Night (1953 film)\n",
      "Písek District\n",
      "Mastery and pleasure technique\n",
      "Welcome Home, Soldier Boys\n",
      "Kietlice, Warmian-Masurian Voivodeship\n",
      "Nursery Independent School District\n",
      "Sommariva del Bosco\n",
      "Douglas Arterial Road\n",
      "Norbornene-mediated meta-C-H activation\n",
      "Up and Down (film)\n",
      "Seth Irunsewe Kale\n",
      "HD 28254\n",
      "Pierre-Yves André\n",
      "Harry Slatkin\n",
      "Woman of the Year (Parks and Recreation)\n",
      "Concha Buika\n",
      "Robert McNamara (disambiguation)\n",
      "\"Robert McNamara (disambiguation)\" may refer to: \n",
      "Robert McNamara\n",
      "Bob McNamara (baseball)\n",
      "Bob McNamara (Canadian football)\n",
      "Bob McNamara (sports executive)\n",
      "Robert McNamara (figure skater)\n",
      "Robert Craig McNamara\n",
      "Great flying fox\n",
      "Karukh\n",
      "Ngulu people\n",
      "Hime cut\n",
      "Holby City (series 19)\n",
      "Ride the Bullet\n",
      "Javed Khan (executive)\n",
      "Xisaishan District\n",
      "Brad Sherman\n",
      "Roads (novel)\n",
      "Charles Clarence Pratt\n",
      "1998 NCAA Men's Water Polo Championship\n",
      "Calveriosoma gracile\n",
      "Phrasing\n",
      "\"Phrasing\" may refer to: \n",
      "Phrasing (DJ)\n",
      "Musical phrasing\n",
      "Phrase (disambiguation)\n",
      "Lucas Luiz Scalon\n",
      "Ninh Sơn District\n",
      "Imaginations (album)\n",
      "Hydrothassa hannoveriana\n",
      "Leptodactylus leptodactyloides\n",
      "Tutun Darreh\n",
      "Old City (Shanghai)\n",
      "Moso's Footprint\n",
      "Mark Henderson\n",
      "\"Mark Henderson\" may refer to: \n",
      "Mark Henderson (lighting designer)\n",
      "Mark Henderson (swimmer)\n",
      "List of Big Brother 2011 housemates (UK)#Mark\n",
      "Snowplow Game\n",
      "Mark Henderson\n",
      "1990 Sabadell attack\n",
      "Enter conference\n",
      "Olympic Hockey Centre\n",
      "\"Olympic Hockey Centre\" may refer to: \n",
      "Olympic Hockey Centre (Athens)\n",
      "Riverbank Arena\n",
      "Olympic Hockey Centre (Rio de Janeiro)\n",
      "Subhro Kamal Mukherjee\n",
      "Buelingo\n",
      "Philippa Ngaju Makobore\n",
      "Iraqi Jewish Archive\n",
      "Roepkiella javana\n",
      "Rais Amrohvi\n",
      "Marta Hillers\n",
      "Sketchman\n",
      "National Council of Corporations\n",
      "Nagshead SSSI\n",
      "Tormentor (song)\n",
      "Dominic Burns\n",
      "Nicolas Browne-Wilkinson, Baron Browne-Wilkinson\n",
      "List of people from Cumberland, Maryland\n",
      "Archduchess Maria Karoline of Austria (1825-1915)\n",
      "I Sometimes Wish I Was Famous: A Swedish Tribute to Depeche Mode\n",
      "Tangshan Earthquake Memorial Wall\n",
      "Manali Dey\n",
      "Clematis ochroleuca\n",
      "Igor Grivennikov\n",
      "Dorcadion sinopense\n",
      "Rodrigo Sam\n",
      "Fengdu Yangtze River Bridge\n",
      "Atalaye nesophontes\n",
      "James Buchanan Holland\n",
      "David P. Dahl\n",
      "Diving at the 2009 World Aquatics Championships – Men's 10 metre platform\n",
      "Leonard M. Elstad\n",
      "Kilmeage\n",
      "Piazza dei Signori, Treviso\n",
      "DEMIRA\n",
      "Mizuho Ōta\n",
      "Louisa Parr\n"
     ]
    }
   ],
   "source": [
    "en_articles = get_articles(en_pages)"
   ]
  },
  {
   "cell_type": "code",
   "execution_count": 6,
   "metadata": {
    "collapsed": false
   },
   "outputs": [],
   "source": [
    "import pandas"
   ]
  },
  {
   "cell_type": "code",
   "execution_count": 7,
   "metadata": {
    "collapsed": true
   },
   "outputs": [],
   "source": [
    "en_articles = en_articles[:100]\n",
    "eng = pandas.DataFrame({'lang': 100 * ['eng'], 'article': en_articles})"
   ]
  },
  {
   "cell_type": "code",
   "execution_count": 8,
   "metadata": {
    "collapsed": false
   },
   "outputs": [
    {
     "data": {
      "text/html": [
       "<div>\n",
       "<table border=\"1\" class=\"dataframe\">\n",
       "  <thead>\n",
       "    <tr style=\"text-align: right;\">\n",
       "      <th></th>\n",
       "      <th>article</th>\n",
       "      <th>lang</th>\n",
       "    </tr>\n",
       "  </thead>\n",
       "  <tbody>\n",
       "    <tr>\n",
       "      <th>0</th>\n",
       "      <td>Angélica Delfina Vásquez Cruz, also known as t...</td>\n",
       "      <td>eng</td>\n",
       "    </tr>\n",
       "    <tr>\n",
       "      <th>1</th>\n",
       "      <td>The UCI Road World Championships are the annua...</td>\n",
       "      <td>eng</td>\n",
       "    </tr>\n",
       "    <tr>\n",
       "      <th>2</th>\n",
       "      <td>Harriet Ntabazi (born 11 December 1974) is a U...</td>\n",
       "      <td>eng</td>\n",
       "    </tr>\n",
       "    <tr>\n",
       "      <th>3</th>\n",
       "      <td>Ctenopseustis fraterna, the brownheaded leafro...</td>\n",
       "      <td>eng</td>\n",
       "    </tr>\n",
       "    <tr>\n",
       "      <th>4</th>\n",
       "      <td>Islington Studios often known as Gainsborough ...</td>\n",
       "      <td>eng</td>\n",
       "    </tr>\n",
       "  </tbody>\n",
       "</table>\n",
       "</div>"
      ],
      "text/plain": [
       "                                             article lang\n",
       "0  Angélica Delfina Vásquez Cruz, also known as t...  eng\n",
       "1  The UCI Road World Championships are the annua...  eng\n",
       "2  Harriet Ntabazi (born 11 December 1974) is a U...  eng\n",
       "3  Ctenopseustis fraterna, the brownheaded leafro...  eng\n",
       "4  Islington Studios often known as Gainsborough ...  eng"
      ]
     },
     "execution_count": 8,
     "metadata": {},
     "output_type": "execute_result"
    }
   ],
   "source": [
    "eng.head()"
   ]
  },
  {
   "cell_type": "code",
   "execution_count": 15,
   "metadata": {
    "collapsed": false
   },
   "outputs": [
    {
     "name": "stdout",
     "output_type": "stream",
     "text": [
      "Mylochromis ericotaenia\n",
      "Benquet\n",
      "Cynoglossus kapuasensis\n",
      "Litoria\n",
      "Tuili\n",
      "Galera uhartea\n",
      "Chinargues\n",
      "Kopetazuri\n",
      "Suzuko Tamura\n",
      "Neobythites vityazi\n",
      "Yasuhikotakia splendida\n",
      "Fernando de Valenzuela\n",
      "Heteroscymnoides marleyi\n",
      "Aucheko barrutia\n",
      "Hallering\n",
      "Forbach (Baden)\n",
      "Pedioplanis gaerdesi\n",
      "Passy (Yonne)\n",
      "Allotz\n",
      "McClure (Illinois)\n",
      "Leptodon forbesi\n",
      "Gugney-aux-Aulx\n",
      "1180 Rita\n",
      "Knipolegus hudsoni\n",
      "Millardia kondana\n",
      "Pine Bluff (Arkansas)\n",
      "Enirio-Aralarko Mankomunitatea\n",
      "806\n",
      "New Milford (Connecticut)\n",
      "Chesaning (Michigan)\n",
      "Opsanus pardus\n",
      "Bharatpur\n",
      "Chacabuco probintzia\n",
      "Aingira (uhartea)\n",
      "Eutropis quadratilobus\n",
      "Oriolus melanotis\n",
      "Captain Nemo\n",
      "Mastacembelus apectoralis\n",
      "Pittsburg (Illinois)\n",
      "Detian-Banyue ur-jauziak\n",
      "Spino d'Adda\n",
      "Tactostoma macropus\n",
      "Tylochromis trewavasae\n",
      "Dijkstraren algoritmo\n",
      "Kartesiar obalo\n",
      "Cannich\n",
      "Estrilda melpoda\n",
      "Ordesa eta Perdidoko Parke Nazionala\n",
      "873\n",
      "Mesnil-Bruntel\n",
      "Old Trafford\n",
      "Friedewald\n",
      "Tlanchinol (udalerria)\n",
      "Shawinigan (Quebec)\n",
      "Thun-Saint-Amand\n",
      "Tremont City (Ohio)\n",
      "Ri (Orne)\n",
      "Alakylä\n",
      "José Díez Calleja\n",
      "La femme de Jean\n",
      "Microphis cruentus\n",
      "Dipsas pakaraima\n",
      "Uribarri (Aramaio)\n",
      "Takht-e Rostam\n",
      "Meridian (New York)\n",
      "Telediario\n",
      "Ventrifossa vinolenta\n",
      "Jinhua\n",
      "Deza\n"
     ]
    },
    {
     "name": "stderr",
     "output_type": "stream",
     "text": [
      "/home/maryszmary/anaconda3/lib/python3.5/site-packages/bs4/__init__.py:181: UserWarning: No parser was explicitly specified, so I'm using the best available HTML parser for this system (\"lxml\"). This usually isn't a problem, but if you run this code on another system, or in a different virtual environment, it may use a different parser and behave differently.\n",
      "\n",
      "The code that caused this warning is on line 184 of the file /home/maryszmary/anaconda3/lib/python3.5/runpy.py. To get rid of this warning, change code that looks like this:\n",
      "\n",
      " BeautifulSoup([your markup])\n",
      "\n",
      "to this:\n",
      "\n",
      " BeautifulSoup([your markup], \"lxml\")\n",
      "\n",
      "  markup_type=markup_type))\n"
     ]
    },
    {
     "name": "stdout",
     "output_type": "stream",
     "text": [
      "\"Deza\" may refer to: \n",
      "Diego de Deza\n",
      "Deza\n",
      "Deza ibaia\n",
      "O Deza\n",
      "Labeo bottegi\n",
      "Elwood (Kansas)\n",
      "Pozzallo\n",
      "Sternopygus pejeraton\n",
      "Ecsenius trilineatus\n",
      "Robert Curl\n",
      "Giza Eskubideen Nazioarteko Eguna\n",
      "Monti\n",
      "Eurydactylodes symmetricus\n",
      "Llanrhyddlad\n",
      "Parintins\n",
      "Guanajuato\n",
      "807 Ceraskia\n",
      "Daimler-Benz\n",
      "Natalus major\n",
      "Metopothrix aurantiaca\n",
      "Les Fins\n",
      "Euskaltegi\n",
      "Thabana Ntlenyana\n",
      "Eo\n",
      "Hiroaki Morishima\n",
      "Paflagonia\n",
      "Rix (Nièvre)\n",
      "Alsodes laevis\n",
      "Pentaceros quinquespinis\n",
      "Anlar\n",
      "Mandatoriccio\n",
      "Carville\n",
      "Elkanoren estatua (Getaria, Gudarien enparantza)\n",
      "Sardinella\n",
      "Myotis lucifugus\n",
      "Neopsittacus pullicauda\n",
      "Menticirrhus americanus\n",
      "Basehor (Kansas)\n",
      "Espejo\n",
      "Sandy Creek (Ipar Carolina)\n",
      "Viozan\n",
      "Grallina bruijnii\n",
      "Paraliparis bathybius\n",
      "Ulverton (Quebec)\n",
      "Llangwyryfon\n",
      "Belle-Île\n",
      "Parcy-et-Tigny\n",
      "Les Clefs\n",
      "Los Valdecolmenas\n",
      "Le Lonzac\n",
      "Gonostomatidae\n",
      "Baschi (udalerria)\n",
      "Poligono ukitzaile\n",
      "Dakar (eskualdea)\n",
      "Guti\n",
      "\"Guti\" may refer to: \n",
      "Gutiérrez\n",
      "Antoni Gutiérrez\n",
      "José María Gutiérrez Hernández\n",
      "Guti\n",
      "Guti\n",
      "Korana\n",
      "Nossa Senhora Aparecida (Sergipe)\n",
      "Hozkailu\n",
      "Zoramena (diskoa)\n",
      "Arnold Schwarzenegger\n",
      "Sutz-Lattrigen\n",
      "Isthmohyla\n",
      "Arbëreshera\n",
      "David Pinilla\n",
      "Pieter Lastman\n",
      "Poligono aldeberdin\n",
      "Longueval\n",
      "Bucephala albeola\n",
      "Matureia\n",
      "Cornell (Illinois)\n",
      "Zenbakizko kognizioa\n",
      "Shallotte (Ipar Carolina)\n",
      "Bathycongrus trilineatus\n",
      "Txulo (pertsona)\n",
      "A Estrada\n",
      "Maelstrom itsaslasterra\n",
      "Sofoniasen Liburua\n",
      "Fernand Braudel\n",
      "René Philombe\n",
      "Spring Hill (Iowa)\n",
      "Pijijiapan (udalerria)\n",
      "Nohic\n",
      "Jolalpan (udalerria)\n",
      "Aerobio\n",
      "Basberg\n"
     ]
    }
   ],
   "source": [
    "# 100 random bask texts\n",
    "wikipedia.set_lang(\"eu\")\n",
    "bask_pages = wikipedia.random(pages=150)\n",
    "bask_articles = get_articles(bask_pages)"
   ]
  },
  {
   "cell_type": "code",
   "execution_count": 16,
   "metadata": {
    "collapsed": false
   },
   "outputs": [],
   "source": [
    "bask_articles = bask_articles [:100]\n",
    "bask = pandas.DataFrame({'lang': 100 * ['bask'], 'article': bask_articles})"
   ]
  },
  {
   "cell_type": "code",
   "execution_count": 18,
   "metadata": {
    "collapsed": false
   },
   "outputs": [
    {
     "data": {
      "text/html": [
       "<div>\n",
       "<table border=\"1\" class=\"dataframe\">\n",
       "  <thead>\n",
       "    <tr style=\"text-align: right;\">\n",
       "      <th></th>\n",
       "      <th>article</th>\n",
       "      <th>lang</th>\n",
       "    </tr>\n",
       "  </thead>\n",
       "  <tbody>\n",
       "    <tr>\n",
       "      <th>0</th>\n",
       "      <td>Mylochromis ericotaenia Mylochromis generoko a...</td>\n",
       "      <td>bask</td>\n",
       "    </tr>\n",
       "    <tr>\n",
       "      <th>1</th>\n",
       "      <td>Benquet Okzitaniako udalerri bat da. Administr...</td>\n",
       "      <td>bask</td>\n",
       "    </tr>\n",
       "    <tr>\n",
       "      <th>2</th>\n",
       "      <td>Cynoglossus kapuasensis Cynoglossus generoko a...</td>\n",
       "      <td>bask</td>\n",
       "    </tr>\n",
       "    <tr>\n",
       "      <th>3</th>\n",
       "      <td>Litoria anfibio genero bat da, Anura ordenaren...</td>\n",
       "      <td>bask</td>\n",
       "    </tr>\n",
       "    <tr>\n",
       "      <th>4</th>\n",
       "      <td>Tuili Medio Campidanoko (Sardinia, Italia) uda...</td>\n",
       "      <td>bask</td>\n",
       "    </tr>\n",
       "  </tbody>\n",
       "</table>\n",
       "</div>"
      ],
      "text/plain": [
       "                                             article  lang\n",
       "0  Mylochromis ericotaenia Mylochromis generoko a...  bask\n",
       "1  Benquet Okzitaniako udalerri bat da. Administr...  bask\n",
       "2  Cynoglossus kapuasensis Cynoglossus generoko a...  bask\n",
       "3  Litoria anfibio genero bat da, Anura ordenaren...  bask\n",
       "4  Tuili Medio Campidanoko (Sardinia, Italia) uda...  bask"
      ]
     },
     "execution_count": 18,
     "metadata": {},
     "output_type": "execute_result"
    }
   ],
   "source": [
    "bask.head()"
   ]
  },
  {
   "cell_type": "code",
   "execution_count": 20,
   "metadata": {
    "collapsed": false
   },
   "outputs": [
    {
     "name": "stdout",
     "output_type": "stream",
     "text": [
      "296 Phaetusa\n",
      "Index Communium provinciae Navarrensis\n",
      "Arteria spinalis anterior\n",
      "Sergius Frusoni\n",
      "Texola elada\n",
      "4119 Miles\n",
      "Castanet-le-Haut\n",
      "Auguilhacum\n",
      "Varennes (Haute-Garonne)\n",
      "Tuba auditiva Eustachii\n",
      "Familia regalis\n",
      "Gulielmus Foulke\n",
      "Cauvigny\n",
      "Pater noster\n",
      "Helena Mirren\n",
      "2754 Efimov\n",
      "Simona Peter\n",
      "Choisy-la-Victoire\n",
      "2742 Gibson\n",
      "Ponticulus (discretiva)\n"
     ]
    },
    {
     "name": "stderr",
     "output_type": "stream",
     "text": [
      "/home/maryszmary/anaconda3/lib/python3.5/site-packages/bs4/__init__.py:181: UserWarning: No parser was explicitly specified, so I'm using the best available HTML parser for this system (\"lxml\"). This usually isn't a problem, but if you run this code on another system, or in a different virtual environment, it may use a different parser and behave differently.\n",
      "\n",
      "The code that caused this warning is on line 184 of the file /home/maryszmary/anaconda3/lib/python3.5/runpy.py. To get rid of this warning, change code that looks like this:\n",
      "\n",
      " BeautifulSoup([your markup])\n",
      "\n",
      "to this:\n",
      "\n",
      " BeautifulSoup([your markup], \"lxml\")\n",
      "\n",
      "  markup_type=markup_type))\n"
     ]
    },
    {
     "name": "stdout",
     "output_type": "stream",
     "text": [
      "\"Ponticulus (discretiva)\" may refer to: \n",
      "Ponticulus\n",
      "Ponticulus (musica)\n",
      "Ponticulus (Rodigium)\n",
      "Ponticulus (Vallis Augustana)\n",
      "Ponticulus (Venetia)\n",
      "Ponticulus Maurianorum\n",
      "Cressae (Euripides)\n",
      "Saint-Christophe (Vigenna)\n",
      "Stephanus de la Boétie\n",
      "Castrum Sancti Angeli ad Pontem Sevis\n",
      "Fornost\n",
      "Res novae Francicae\n",
      "6426 Vanýsek\n",
      "Conventio Consilii Europae de inhibenda vi mulieribus adlata et de oppugnanda violentia domestica\n",
      "Anatolius Rybakov\n",
      "Fossaceca (Beneventum)\n",
      "Theodoricus Lhermitte\n",
      "Trespoux-Rassiels\n",
      "Rieux (Sequana Maritima)\n",
      "5673 McAllister\n",
      "Foedus Iroquesiorum\n",
      "Rubicundus\n",
      "Samaran (Aegirtius)\n",
      "Scientia systematis Tellustris\n",
      "Rusticatio Californiana\n",
      "Caspar Monge\n",
      "3840 Mimistrobell\n",
      "Bures (Murta et Mosella)\n",
      "La Villette (Calva Dorsa)\n",
      "Saint-Martin-de-la-Lieue\n",
      "Byzantium\n",
      "Provency\n",
      "Hanstedt (Circulus Uelzen)\n",
      "Elegia\n",
      "Gryps\n",
      "Loconatum\n",
      "Rhipidura nebulosa\n",
      "Sedes Suburbicaria Praenestina\n",
      "Roost-Warendin\n",
      "Gilgamus\n",
      "Fanum Sancti Georgii (Pharus)\n",
      "Maria Robinson\n",
      "Curator supremus Nationum Unitarum pro refugis\n",
      "Lignières (Lidericus et Carus)\n",
      "Oppland\n",
      "Champagney (Iura)\n",
      "Boianum (Molisium)\n",
      "Lanarvily\n",
      "Vaux-en-Pré\n",
      "Rod Steiger\n",
      "Stadia Olympiorum aestivorum\n",
      "Kléber Dadjo\n",
      "Vasa (monasterium)\n",
      "Welwitschia\n",
      "Ahmed Sékou Touré\n",
      "Iacobus Robertus Thompson\n",
      "Andreas Hermes\n",
      "Lauriana\n",
      "\"Lauriana\" may refer to: \n",
      "Lauriana (Croatia)\n",
      "Lauriana (Italia)\n",
      "Calgary Flames\n",
      "Cropus\n",
      "Saint-Léger-sur-Sarthe\n",
      "Plougoumelen\n",
      "Saint-Chinian\n",
      "Charbogne\n",
      "Curcium\n",
      "Sextus Palpellius Hister\n",
      "Paulus Walker\n",
      "Maccarthismus\n",
      "Chauffour-lès-Étréchy\n",
      "Auvillars\n",
      "Gaius Maenius P.f.\n",
      "Sant Vicenç de Castellet\n",
      "Wyandot Comitatus\n",
      "Neuilly-le-Vendin\n",
      "Sponsio atheistae\n",
      "Gasto (dux Aurelianensis)\n",
      "Arras-en-Lavedan\n",
      "Épreville\n",
      "Nationes megadiversae\n",
      "Vindey\n",
      "Saccharificium Graecense\n",
      "Ioga\n",
      "Franciscus Schleck\n",
      "Saint-Marcel-lès-Sauzet\n",
      "Mons Bellus (Aemilia-Romania)\n",
      "Fontaine-au-Pire\n",
      "Flamma aeterna\n",
      "Eduardus Rutledge\n",
      "Ageville\n",
      "Rheumatologia\n",
      "Thenay (Lidericus et Carus)\n",
      "Marizy-Saint-Mard\n",
      "Dei salvatores\n",
      "\"Dei salvatores\" may refer to: \n",
      "Dioscuri\n",
      "Ptolemaeus I\n",
      "Gigondas\n",
      "Beatrix (regina Nederlandiae)\n",
      "Franciscus Iosephus Gossec\n",
      "Caspar Gustavus Coriolis\n",
      "Teniludium mensale\n",
      "29 Maii\n",
      "Adolfus Bioy Casares\n",
      "Excussa\n",
      "Crithmum maritimum\n",
      "Ionia\n",
      "Reulle-Vergy\n",
      "El Prat de Llobregat\n",
      "Ossopum\n",
      "Köln-Blumenberg\n",
      "Hiroshi Nanami\n",
      "Plessur (districtus)\n",
      "Bure familia\n",
      "Index regum Indiae\n",
      "Caronum Ghiringhelum\n",
      "Constantinus Palamas\n",
      "Sebastianus Castellio\n",
      "Valeyrac\n",
      "Target (Elaver)\n",
      "Ducatus Oldenburgensis\n",
      "1233\n",
      "Die \"kulturelle\" Sexualmoral und die moderne Nervosität\n",
      "Bouligneux\n",
      "Aedes Sancti Sixti de Urbe\n",
      "Flumen Argenteum\n",
      "Nessuno si salva da solo (pellicula)\n",
      "826 Henrika\n",
      "Chey\n",
      "Panda\n",
      "\"Panda\" may refer to: \n",
      "Ailuropoda melanoleuca\n",
      "Ailurus fulgens\n",
      "Castrum Pandi\n",
      "Hallesii\n",
      "6226 Paulwarren\n",
      "Solis ortus\n",
      "Iohannes Luther\n",
      "Al-Kahf\n",
      "Polyhymnia\n",
      "1084 Tamariwa\n",
      "Fridericus Augustus Stock\n",
      "La Chapelle-Saint-Rémy\n",
      "Andøy\n"
     ]
    }
   ],
   "source": [
    "# 100 random latin texts\n",
    "wikipedia.set_lang(\"la\")\n",
    "lat_pages = wikipedia.random(pages=150)\n",
    "lat_articles = get_articles(lat_pages)\n",
    "lat_articles = lat_articles[:100]"
   ]
  },
  {
   "cell_type": "code",
   "execution_count": 27,
   "metadata": {
    "collapsed": false
   },
   "outputs": [
    {
     "data": {
      "text/html": [
       "<div>\n",
       "<table border=\"1\" class=\"dataframe\">\n",
       "  <thead>\n",
       "    <tr style=\"text-align: right;\">\n",
       "      <th></th>\n",
       "      <th>article</th>\n",
       "      <th>lang</th>\n",
       "    </tr>\n",
       "  </thead>\n",
       "  <tbody>\n",
       "    <tr>\n",
       "      <th>0</th>\n",
       "      <td>296 Phaetusa, olim designationibus 1930 YH et ...</td>\n",
       "      <td>bask</td>\n",
       "    </tr>\n",
       "    <tr>\n",
       "      <th>1</th>\n",
       "      <td>Hic est Index Communium provinciae Navarrensis...</td>\n",
       "      <td>bask</td>\n",
       "    </tr>\n",
       "    <tr>\n",
       "      <th>2</th>\n",
       "      <td>Arteria spinalis anterior, in (animalibus arte...</td>\n",
       "      <td>bask</td>\n",
       "    </tr>\n",
       "    <tr>\n",
       "      <th>3</th>\n",
       "      <td>Sergius Frusoni (natus familia oriunda e Itali...</td>\n",
       "      <td>bask</td>\n",
       "    </tr>\n",
       "    <tr>\n",
       "      <th>4</th>\n",
       "      <td>Texola elada (Anglice elada checkerspot) est p...</td>\n",
       "      <td>bask</td>\n",
       "    </tr>\n",
       "  </tbody>\n",
       "</table>\n",
       "</div>"
      ],
      "text/plain": [
       "                                             article  lang\n",
       "0  296 Phaetusa, olim designationibus 1930 YH et ...  bask\n",
       "1  Hic est Index Communium provinciae Navarrensis...  bask\n",
       "2  Arteria spinalis anterior, in (animalibus arte...  bask\n",
       "3  Sergius Frusoni (natus familia oriunda e Itali...  bask\n",
       "4  Texola elada (Anglice elada checkerspot) est p...  bask"
      ]
     },
     "execution_count": 27,
     "metadata": {},
     "output_type": "execute_result"
    }
   ],
   "source": [
    "lat = pandas.DataFrame({'lang': 100 * ['lat'], 'article': lat_articles})\n",
    "lat.head()"
   ]
  },
  {
   "cell_type": "code",
   "execution_count": 139,
   "metadata": {
    "collapsed": false
   },
   "outputs": [],
   "source": [
    "# 100 random indonesian texts\n",
    "wikipedia.set_lang(\"id\")\n",
    "ind_pages = wikipedia.random(pages=150)\n",
    "ind_articles = get_articles(ind_pages)\n",
    "ind_articles = ind_articles[:100]"
   ]
  },
  {
   "cell_type": "code",
   "execution_count": 140,
   "metadata": {
    "collapsed": false
   },
   "outputs": [
    {
     "data": {
      "text/html": [
       "<div>\n",
       "<table border=\"1\" class=\"dataframe\">\n",
       "  <thead>\n",
       "    <tr style=\"text-align: right;\">\n",
       "      <th></th>\n",
       "      <th>article</th>\n",
       "      <th>lang</th>\n",
       "    </tr>\n",
       "  </thead>\n",
       "  <tbody>\n",
       "    <tr>\n",
       "      <th>0</th>\n",
       "      <td>Luca Marchegiani (Ancona, 12 Februari 1966) ad...</td>\n",
       "      <td>ind</td>\n",
       "    </tr>\n",
       "    <tr>\n",
       "      <th>1</th>\n",
       "      <td>Sekolah Dasar Negeri Tanjung Barat 01 adalah s...</td>\n",
       "      <td>ind</td>\n",
       "    </tr>\n",
       "    <tr>\n",
       "      <th>2</th>\n",
       "      <td>Glenea iligana adalah spesies kumbang tanduk p...</td>\n",
       "      <td>ind</td>\n",
       "    </tr>\n",
       "    <tr>\n",
       "      <th>3</th>\n",
       "      <td>Pselliophora henryi adalah spesies lalat yang ...</td>\n",
       "      <td>ind</td>\n",
       "    </tr>\n",
       "    <tr>\n",
       "      <th>4</th>\n",
       "      <td>Benette Pang Kin Sang (Hanzi tradisional: 彭健新,...</td>\n",
       "      <td>ind</td>\n",
       "    </tr>\n",
       "  </tbody>\n",
       "</table>\n",
       "</div>"
      ],
      "text/plain": [
       "                                             article lang\n",
       "0  Luca Marchegiani (Ancona, 12 Februari 1966) ad...  ind\n",
       "1  Sekolah Dasar Negeri Tanjung Barat 01 adalah s...  ind\n",
       "2  Glenea iligana adalah spesies kumbang tanduk p...  ind\n",
       "3  Pselliophora henryi adalah spesies lalat yang ...  ind\n",
       "4  Benette Pang Kin Sang (Hanzi tradisional: 彭健新,...  ind"
      ]
     },
     "execution_count": 140,
     "metadata": {},
     "output_type": "execute_result"
    }
   ],
   "source": [
    "ind = pandas.DataFrame({'lang': 100 * ['ind'], 'article': ind_articles})\n",
    "ind.head()"
   ]
  },
  {
   "cell_type": "markdown",
   "metadata": {
    "collapsed": true
   },
   "source": [
    "Объединяю данные в один датасет."
   ]
  },
  {
   "cell_type": "code",
   "execution_count": 143,
   "metadata": {
    "collapsed": true
   },
   "outputs": [],
   "source": [
    "articles_df = pandas.concat([eng, bask, lat, ind])"
   ]
  },
  {
   "cell_type": "markdown",
   "metadata": {},
   "source": [
    "Сохраняю, *just in case*."
   ]
  },
  {
   "cell_type": "code",
   "execution_count": 144,
   "metadata": {
    "collapsed": false
   },
   "outputs": [],
   "source": [
    "articles_df.to_csv(path_or_buf='articles_df.csv')"
   ]
  },
  {
   "cell_type": "markdown",
   "metadata": {},
   "source": [
    "## Предобработка"
   ]
  },
  {
   "cell_type": "markdown",
   "metadata": {},
   "source": [
    "Смотрю на данные:"
   ]
  },
  {
   "cell_type": "code",
   "execution_count": 35,
   "metadata": {
    "collapsed": false
   },
   "outputs": [
    {
     "name": "stdout",
     "output_type": "stream",
     "text": [
      "The UCI Road World Championships are the annual world championships for bicycle road racing organized by the Union Cycliste Internationale (UCI). The UCI Road World Championships consist of events for road race and individual time trial, and as of 2012 Team Time Trials.\n",
      "\n",
      "\n",
      "== Events ==\n",
      "All the world championship events, except team time trials from 2012, are ridden by national teams, not trade teams such as in most other major races. The winner of each category is entitled to wear the rainbow jersey in races of that category (either mass start or time trial) until the next championships. It currently includes the following championships:\n",
      "Elite Men's road race\n",
      "Elite Men's time trial\n",
      "Men's team time trial (for trade teams)\n",
      "Under-23 Men's road race\n",
      "Under-23 Men's time trial\n",
      "Junior Men's road race\n",
      "Junior Men's time trial\n",
      "Elite Women's road race\n",
      "Elite Women's time trial\n",
      "Women's team time trial (for trade teams)\n",
      "Junior Women's road race\n",
      "Junior Women's time trial\n",
      "Former events:\n",
      "Men's amateur road race\n",
      "Men's team time trial (for national teams)\n",
      "Women's team time trial (for national teams)\n",
      "\n",
      "\n",
      "== History ==\n",
      "The first world championships took place in 1921, though the only event that was contested was the Men's Road Race for Amateurs. The first professional world championship took place in July 1927 at the Nürburgring in Germany where Italian Alfredo Binda won the professional men's race and Belgian Jean Aerts won the men's amateur race. The women's road race was introduced in 1958. A men's team time trial, contested by national teams, was introduced in 1962. Beginning in 1972, the team time trial was discontinued in Olympic years only. Individual time trials in all categories were added in 1994, which was also the last year for the original incarnation of the men's team time trial. In 2012, the men's team time trial was reinstated, and a women's team time trial added to the program; both are contested by trade teams.\n",
      "Until 1995, there were separate races for male professional and amateur riders. In 1996, the amateur category was replaced with a category for men under-23 years old with the professional category becoming an open (later elite) category.\n",
      "Since 1995, the race has been held towards the end of the European season in late September, usually following the Vuelta a España. Before that, the event had always been a summer race, held in late August or the first week of September (with the exception of 1970, when it was a mid-season summer event).\n",
      "The world championships are located in a different city or region every year. The event can be held over a relatively flat course which favors cycling sprinters or a hilly course which favors a climbing specialist or all-round. In each case the course is usually held on a circuit of which the riders complete multiple laps.\n",
      "The world championship road race and two of the three Grand Tours (namely the Giro d'Italia and the Tour de France) form the Triple Crown of Cycling.\n",
      "\n",
      "\n",
      "== Championships ==\n",
      "\n",
      "\n",
      "== All-time medal table ==\n",
      "Updated after 2017 Championships.\n",
      "Medal table includes only medals achieved in elite (senior) events. Mixed nation team events such as the Team Time Trial from 2012 to 2015 are excluded.\n",
      "\n",
      "\n",
      "== Countries ==\n",
      " Belgium at the UCI Road World Championships\n",
      " Germany at the UCI Road World Championships\n",
      " Italy at the UCI Road World Championships\n",
      " Netherlands at the UCI Road World Championships\n",
      " United States at the UCI Road World Championships\n",
      "\n",
      "\n",
      "== See also ==\n",
      "UCI World Championships\n",
      "\n",
      "\n",
      "== References ==\n"
     ]
    }
   ],
   "source": [
    "print(en_articles[1])"
   ]
  },
  {
   "cell_type": "markdown",
   "metadata": {},
   "source": [
    "Удаляю ссылки, двойные кавычки, больше одного знака равно в ряд (служит для создания заголовков) и цифры: они не помогут в определении языка. Я не буду удалять знаки препинания и сводить символы к одному регистру, т.к., по-моему, они могут нести информацию о том, что может быть в начале/конце слова.\n",
    "Регулярки и функция, чтобы почистить тексты от маркдауна:"
   ]
  },
  {
   "cell_type": "code",
   "execution_count": 13,
   "metadata": {
    "collapsed": false
   },
   "outputs": [],
   "source": [
    "import re\n",
    "TRASH = ['http.*\\\\.(htm|shtml|cl|pdf|com|org|be|uk)/?', '\"\"', '==+', '[0-9]+']\n",
    "COMPILED_TRASH = [re.compile(s) for s in TRASH]\n",
    "# (a good name for some of my scripts XD)\n",
    "\n",
    "def clean_data(text):\n",
    "    for s in COMPILED_TRASH:\n",
    "        text = s.sub('', text)\n",
    "    return text"
   ]
  },
  {
   "cell_type": "code",
   "execution_count": 36,
   "metadata": {
    "collapsed": false
   },
   "outputs": [
    {
     "name": "stdout",
     "output_type": "stream",
     "text": [
      "The UCI Road World Championships are the annual world championships for bicycle road racing organized by the Union Cycliste Internationale (UCI). The UCI Road World Championships consist of events for road race and individual time trial, and as of  Team Time Trials.\n",
      "\n",
      "\n",
      " Events \n",
      "All the world championship events, except team time trials from , are ridden by national teams, not trade teams such as in most other major races. The winner of each category is entitled to wear the rainbow jersey in races of that category (either mass start or time trial) until the next championships. It currently includes the following championships:\n",
      "Elite Men's road race\n",
      "Elite Men's time trial\n",
      "Men's team time trial (for trade teams)\n",
      "Under- Men's road race\n",
      "Under- Men's time trial\n",
      "Junior Men's road race\n",
      "Junior Men's time trial\n",
      "Elite Women's road race\n",
      "Elite Women's time trial\n",
      "Women's team time trial (for trade teams)\n",
      "Junior Women's road race\n",
      "Junior Women's time trial\n",
      "Former events:\n",
      "Men's amateur road race\n",
      "Men's team time trial (for national teams)\n",
      "Women's team time trial (for national teams)\n",
      "\n",
      "\n",
      " History \n",
      "The first world championships took place in , though the only event that was contested was the Men's Road Race for Amateurs. The first professional world championship took place in July  at the Nürburgring in Germany where Italian Alfredo Binda won the professional men's race and Belgian Jean Aerts won the men's amateur race. The women's road race was introduced in . A men's team time trial, contested by national teams, was introduced in . Beginning in , the team time trial was discontinued in Olympic years only. Individual time trials in all categories were added in , which was also the last year for the original incarnation of the men's team time trial. In , the men's team time trial was reinstated, and a women's team time trial added to the program; both are contested by trade teams.\n",
      "Until , there were separate races for male professional and amateur riders. In , the amateur category was replaced with a category for men under- years old with the professional category becoming an open (later elite) category.\n",
      "Since , the race has been held towards the end of the European season in late September, usually following the Vuelta a España. Before that, the event had always been a summer race, held in late August or the first week of September (with the exception of , when it was a mid-season summer event).\n",
      "The world championships are located in a different city or region every year. The event can be held over a relatively flat course which favors cycling sprinters or a hilly course which favors a climbing specialist or all-round. In each case the course is usually held on a circuit of which the riders complete multiple laps.\n",
      "The world championship road race and two of the three Grand Tours (namely the Giro d'Italia and the Tour de France) form the Triple Crown of Cycling.\n",
      "\n",
      "\n",
      " Championships \n",
      "\n",
      "\n",
      " All-time medal table \n",
      "Updated after  Championships.\n",
      "Medal table includes only medals achieved in elite (senior) events. Mixed nation team events such as the Team Time Trial from  to  are excluded.\n",
      "\n",
      "\n",
      " Countries \n",
      " Belgium at the UCI Road World Championships\n",
      " Germany at the UCI Road World Championships\n",
      " Italy at the UCI Road World Championships\n",
      " Netherlands at the UCI Road World Championships\n",
      " United States at the UCI Road World Championships\n",
      "\n",
      "\n",
      " See also \n",
      "UCI World Championships\n",
      "\n",
      "\n",
      " References \n"
     ]
    }
   ],
   "source": [
    "print(clean_data(en_articles[1]))"
   ]
  },
  {
   "cell_type": "markdown",
   "metadata": {},
   "source": [
    "Теперь выглядит красиво. Перезаписываю весь датасет:"
   ]
  },
  {
   "cell_type": "code",
   "execution_count": 14,
   "metadata": {
    "collapsed": false
   },
   "outputs": [],
   "source": [
    "articles_df['article'] = articles_df['article'].map(clean_data)"
   ]
  },
  {
   "cell_type": "markdown",
   "metadata": {
    "collapsed": false
   },
   "source": [
    "## Векторизация"
   ]
  },
  {
   "cell_type": "code",
   "execution_count": 46,
   "metadata": {
    "collapsed": false
   },
   "outputs": [],
   "source": [
    "from sklearn.feature_extraction.text import TfidfVectorizer"
   ]
  },
  {
   "cell_type": "code",
   "execution_count": 147,
   "metadata": {
    "collapsed": false
   },
   "outputs": [],
   "source": [
    "stg = TfidfVectorizer(ngram_range=(3,3), analyzer='char')\n",
    "mat_trg = stg.fit_transform(articles_df['article'])"
   ]
  },
  {
   "cell_type": "markdown",
   "metadata": {},
   "source": [
    "Матрица схожести:"
   ]
  },
  {
   "cell_type": "code",
   "execution_count": 149,
   "metadata": {
    "collapsed": false
   },
   "outputs": [],
   "source": [
    "from sklearn.metrics.pairwise import cosine_similarity\n",
    "sim = cosine_similarity(mat_trg)"
   ]
  },
  {
   "cell_type": "code",
   "execution_count": 150,
   "metadata": {
    "collapsed": false
   },
   "outputs": [
    {
     "data": {
      "image/png": "[encoded data removed]",
      "text/plain": [
       "<matplotlib.figure.Figure at 0xa71d5b4c>"
      ]
     },
     "metadata": {},
     "output_type": "display_data"
    }
   ],
   "source": [
    "import matplotlib.pyplot as plt\n",
    "%matplotlib inline\n",
    "\n",
    "plt.imshow(sim)\n",
    "plt.colorbar()\n",
    "plt.show()"
   ]
  },
  {
   "cell_type": "markdown",
   "metadata": {},
   "source": [
    "Так мало что видно, но, по-видимому, больше всего друг на друга похожи английский с латынью и басксикий с индонезийским.\n",
    "\n",
    "Сделаем таблицу с 4 языками:"
   ]
  },
  {
   "cell_type": "code",
   "execution_count": 165,
   "metadata": {
    "collapsed": false
   },
   "outputs": [],
   "source": [
    "languages = pandas.DataFrame({'lang': ['eng', 'bask', 'lat', 'ind'], 'text': [\n",
    "            '\\n'.join(eng['article']),\n",
    "            '\\n'.join(bask['article']),\n",
    "            '\\n'.join(lat['article']),\n",
    "            '\\n'.join(ind['article']),\n",
    "        ]})"
   ]
  },
  {
   "cell_type": "code",
   "execution_count": 166,
   "metadata": {
    "collapsed": false
   },
   "outputs": [
    {
     "data": {
      "text/html": [
       "<div>\n",
       "<table border=\"1\" class=\"dataframe\">\n",
       "  <thead>\n",
       "    <tr style=\"text-align: right;\">\n",
       "      <th></th>\n",
       "      <th>lang</th>\n",
       "      <th>text</th>\n",
       "    </tr>\n",
       "  </thead>\n",
       "  <tbody>\n",
       "    <tr>\n",
       "      <th>0</th>\n",
       "      <td>eng</td>\n",
       "      <td>Angélica Delfina Vásquez Cruz, also known as t...</td>\n",
       "    </tr>\n",
       "    <tr>\n",
       "      <th>1</th>\n",
       "      <td>bask</td>\n",
       "      <td>Mylochromis ericotaenia Mylochromis generoko a...</td>\n",
       "    </tr>\n",
       "    <tr>\n",
       "      <th>2</th>\n",
       "      <td>lat</td>\n",
       "      <td>Phaetusa, olim designationibus  YH et A XB ag...</td>\n",
       "    </tr>\n",
       "    <tr>\n",
       "      <th>3</th>\n",
       "      <td>ind</td>\n",
       "      <td>Luca Marchegiani (Ancona,  Februari ) adalah s...</td>\n",
       "    </tr>\n",
       "  </tbody>\n",
       "</table>\n",
       "</div>"
      ],
      "text/plain": [
       "   lang                                               text\n",
       "0   eng  Angélica Delfina Vásquez Cruz, also known as t...\n",
       "1  bask  Mylochromis ericotaenia Mylochromis generoko a...\n",
       "2   lat   Phaetusa, olim designationibus  YH et A XB ag...\n",
       "3   ind  Luca Marchegiani (Ancona,  Februari ) adalah s..."
      ]
     },
     "execution_count": 166,
     "metadata": {},
     "output_type": "execute_result"
    }
   ],
   "source": [
    "languages"
   ]
  },
  {
   "cell_type": "code",
   "execution_count": 172,
   "metadata": {
    "collapsed": false
   },
   "outputs": [
    {
     "data": {
      "text/plain": [
       "array([[ 1.        ,  0.22351299,  0.48851612,  0.31707266],\n",
       "       [ 0.22351299,  1.        ,  0.28060116,  0.38020711],\n",
       "       [ 0.48851612,  0.28060116,  1.        ,  0.32279044],\n",
       "       [ 0.31707266,  0.38020711,  0.32279044,  1.        ]])"
      ]
     },
     "execution_count": 172,
     "metadata": {},
     "output_type": "execute_result"
    }
   ],
   "source": [
    "tg = TfidfVectorizer(ngram_range=(3,3), analyzer='char')\n",
    "mat_lang = tg.fit_transform(languages['text'])\n",
    "simil = cosine_similarity(mat_lang)\n",
    "simil"
   ]
  },
  {
   "cell_type": "markdown",
   "metadata": {
    "collapsed": false
   },
   "source": [
    "Так и есть: самые близкие -- английский и латынь.\n",
    "\n",
    "Английский язык легче всего спутать с латынью и индонезийским, а сложнее всего -- с баскским. "
   ]
  },
  {
   "cell_type": "markdown",
   "metadata": {},
   "source": [
    "## Обучение классификатора"
   ]
  },
  {
   "cell_type": "markdown",
   "metadata": {},
   "source": [
    "Разделяю выборки:"
   ]
  },
  {
   "cell_type": "code",
   "execution_count": 94,
   "metadata": {
    "collapsed": true
   },
   "outputs": [],
   "source": [
    "from sklearn.model_selection import train_test_split"
   ]
  },
  {
   "cell_type": "code",
   "execution_count": null,
   "metadata": {
    "collapsed": true
   },
   "outputs": [],
   "source": [
    "x_train, x_test, y_train, y_test = train_test_split(matr, articles['lang'])"
   ]
  }
 ],
 "metadata": {
  "anaconda-cloud": {},
  "kernelspec": {
   "display_name": "Python 3",
   "language": "python",
   "name": "python3"
  },
  "language_info": {
   "codemirror_mode": {
    "name": "ipython",
    "version": 3
   },
   "file_extension": ".py",
   "mimetype": "text/x-python",
   "name": "python",
   "nbconvert_exporter": "python",
   "pygments_lexer": "ipython3",
   "version": "3.5.2"
  }
 },
 "nbformat": 4,
 "nbformat_minor": 1
}
